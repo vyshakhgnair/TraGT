{
 "cells": [
  {
   "cell_type": "code",
   "execution_count": 1,
   "metadata": {},
   "outputs": [],
   "source": [
    "from TraGT.load_data import load_data, load_data_long,CustomDataset,adj_list_to_adj_matrix\n",
    "import torch\n",
    "from torch_geometric.data import Data\n",
    "from TraGT.seq_models import TransformerModel\n",
    "from TraGT.graph_models import Graph_Transformer\n",
    "from TraGT.fusion_model import FusionModel\n",
    "import torch.optim as optim\n",
    "import torch.nn as nn\n",
    "from datetime import datetime\n",
    "import os\n",
    "from sklearn.metrics import roc_auc_score, f1_score, precision_score, recall_score\n",
    "import numpy as np\n",
    "from sklearn.manifold import TSNE\n",
    "import matplotlib.pyplot as plt\n",
    "\n",
    "data_name='bbbp'"
   ]
  },
  {
   "cell_type": "code",
   "execution_count": 2,
   "metadata": {},
   "outputs": [
    {
     "name": "stderr",
     "output_type": "stream",
     "text": [
      "[23:55:04] WARNING: not removing hydrogen atom without neighbors\n",
      "[23:55:05] WARNING: not removing hydrogen atom without neighbors\n",
      "[23:55:05] WARNING: not removing hydrogen atom without neighbors\n",
      "[23:55:05] WARNING: not removing hydrogen atom without neighbors\n",
      "[23:55:05] WARNING: not removing hydrogen atom without neighbors\n",
      "[23:55:05] WARNING: not removing hydrogen atom without neighbors\n",
      "[23:55:05] WARNING: not removing hydrogen atom without neighbors\n",
      "[23:55:05] WARNING: not removing hydrogen atom without neighbors\n",
      "[23:55:06] WARNING: not removing hydrogen atom without neighbors\n",
      "[23:55:06] WARNING: not removing hydrogen atom without neighbors\n",
      "[23:55:06] WARNING: not removing hydrogen atom without neighbors\n",
      "[23:55:06] WARNING: not removing hydrogen atom without neighbors\n",
      "[23:55:06] WARNING: not removing hydrogen atom without neighbors\n",
      "[23:55:06] WARNING: not removing hydrogen atom without neighbors\n",
      "[23:55:06] WARNING: not removing hydrogen atom without neighbors\n",
      "[23:55:06] WARNING: not removing hydrogen atom without neighbors\n",
      "[23:55:06] WARNING: not removing hydrogen atom without neighbors\n",
      "[23:55:06] WARNING: not removing hydrogen atom without neighbors\n",
      "[23:55:06] WARNING: not removing hydrogen atom without neighbors\n",
      "[23:55:06] WARNING: not removing hydrogen atom without neighbors\n",
      "[23:55:06] WARNING: not removing hydrogen atom without neighbors\n",
      "[23:55:06] WARNING: not removing hydrogen atom without neighbors\n",
      "[23:55:06] WARNING: not removing hydrogen atom without neighbors\n",
      "[23:55:06] WARNING: not removing hydrogen atom without neighbors\n",
      "[23:55:06] WARNING: not removing hydrogen atom without neighbors\n",
      "[23:55:07] WARNING: not removing hydrogen atom without neighbors\n",
      "[23:55:07] WARNING: not removing hydrogen atom without neighbors\n",
      "[23:55:07] WARNING: not removing hydrogen atom without neighbors\n",
      "[23:55:07] WARNING: not removing hydrogen atom without neighbors\n",
      "[23:55:07] WARNING: not removing hydrogen atom without neighbors\n",
      "[23:55:07] WARNING: not removing hydrogen atom without neighbors\n",
      "[23:55:07] WARNING: not removing hydrogen atom without neighbors\n",
      "[23:55:07] WARNING: not removing hydrogen atom without neighbors\n",
      "C:\\Users\\vysha\\AppData\\Local\\Temp\\ipykernel_119152\\1327122607.py:12: UserWarning: To copy construct from a tensor, it is recommended to use sourceTensor.clone().detach() or sourceTensor.clone().detach().requires_grad_(True), rather than torch.tensor(sourceTensor).\n",
      "  data_list_train = [Data(x=torch.tensor(features, dtype=torch.float),\n",
      "C:\\Users\\vysha\\AppData\\Local\\Temp\\ipykernel_119152\\1327122607.py:14: UserWarning: To copy construct from a tensor, it is recommended to use sourceTensor.clone().detach() or sourceTensor.clone().detach().requires_grad_(True), rather than torch.tensor(sourceTensor).\n",
      "  y=torch.tensor(label, dtype=torch.float))\n",
      "C:\\Users\\vysha\\AppData\\Local\\Temp\\ipykernel_119152\\1327122607.py:16: UserWarning: To copy construct from a tensor, it is recommended to use sourceTensor.clone().detach() or sourceTensor.clone().detach().requires_grad_(True), rather than torch.tensor(sourceTensor).\n",
      "  data_list_test = [Data(x=torch.tensor(features, dtype=torch.float),\n"
     ]
    }
   ],
   "source": [
    "train_data, train_labels, test_data, test_labels = load_data_long(data_name, device=torch.device(\"cuda:0\" if torch.cuda.is_available() else \"cpu\"))\n",
    "device=torch.device(\"cuda:0\" if torch.cuda.is_available() else \"cpu\")\n",
    "\n",
    "input_dim_train = train_data['features'][0].size(-1)\n",
    "input_dim_test = test_data['features'][0].size(-1)\n",
    "\n",
    "\n",
    "adj_matrices_train = [adj_list_to_adj_matrix(adj_list) for adj_list in train_data['adj_lists']]\n",
    "adj_matrices_test = [adj_list_to_adj_matrix(adj_list) for adj_list in test_data['adj_lists']]\n",
    "\n",
    "\n",
    "data_list_train = [Data(x=torch.tensor(features, dtype=torch.float),\n",
    "                        edge_index=torch.nonzero(adj_matrix, as_tuple=False).t().contiguous(),\n",
    "                        y=torch.tensor(label, dtype=torch.float))\n",
    "                    for features, adj_matrix, label in zip(train_data['features'], adj_matrices_train, train_labels)]\n",
    "data_list_test = [Data(x=torch.tensor(features, dtype=torch.float),\n",
    "                                edge_index=torch.nonzero(adj_matrix, as_tuple=False).t().contiguous(),\n",
    "                                y=torch.tensor(label, dtype=torch.float))\n",
    "                            for features, adj_matrix, label in zip(test_data['features'], adj_matrices_test, test_labels)]\n",
    "\n",
    "train_dataset = CustomDataset(data_list_train, train_data['sequence'])\n",
    "test_dataset = CustomDataset(data_list_test, test_data['sequence'])\n",
    "    "
   ]
  },
  {
   "cell_type": "code",
   "execution_count": 3,
   "metadata": {},
   "outputs": [
    {
     "name": "stderr",
     "output_type": "stream",
     "text": [
      "c:\\Python312\\Lib\\site-packages\\torch\\nn\\modules\\transformer.py:286: UserWarning: enable_nested_tensor is True, but self.use_nested_tensor is False because encoder_layer.self_attn.batch_first was not True(use batch_first for better inference performance)\n",
      "  warnings.warn(f\"enable_nested_tensor is True, but self.use_nested_tensor is False because {why_not_sparsity_fast_path}\")\n"
     ]
    },
    {
     "data": {
      "text/plain": [
       "<All keys matched successfully>"
      ]
     },
     "execution_count": 3,
     "metadata": {},
     "output_type": "execute_result"
    }
   ],
   "source": [
    "import torch\n",
    "vocab_size = 100\n",
    "d_model = 100\n",
    "nhead = 4\n",
    "num_encoder_layers = 3\n",
    "dim_feedforward = 512\n",
    "max_length = 100\n",
    "batch_size = 1\n",
    "num_epochs = 100\n",
    "model_path = 'saved_models/bbbp_2024-05-01_15-49-53/test_best_model_90.674.pth'\n",
    "\n",
    "graph_model = Graph_Transformer(in_channels=input_dim_train, hidden_channels=64, out_channels=1, heads=4).to(device)\n",
    "\n",
    "sequence_model = TransformerModel(vocab_size, d_model, nhead, num_encoder_layers, dim_feedforward).to(device)\n",
    "\n",
    "fusion_model = FusionModel(graph_model, sequence_model).to(device)\n",
    "\n",
    "# Load the state dict into the model\n",
    "fusion_model.load_state_dict(torch.load(model_path))\n"
   ]
  },
  {
   "cell_type": "code",
   "execution_count": 19,
   "metadata": {},
   "outputs": [
    {
     "name": "stdout",
     "output_type": "stream",
     "text": [
      "Epoch 1/100, Epoch Accuracy: 86.9433\n"
     ]
    },
    {
     "ename": "ZeroDivisionError",
     "evalue": "division by zero",
     "output_type": "error",
     "traceback": [
      "\u001b[1;31m---------------------------------------------------------------------------\u001b[0m",
      "\u001b[1;31mZeroDivisionError\u001b[0m                         Traceback (most recent call last)",
      "Cell \u001b[1;32mIn[19], line 82\u001b[0m\n\u001b[0;32m     79\u001b[0m         sequence_targets \u001b[38;5;241m=\u001b[39m sequence_targets\u001b[38;5;241m.\u001b[39munsqueeze(\u001b[38;5;241m0\u001b[39m)\n\u001b[0;32m     81\u001b[0m     \u001b[38;5;66;03m# Compute epoch test accuracy\u001b[39;00m\n\u001b[1;32m---> 82\u001b[0m     epoch_test_accuracy \u001b[38;5;241m=\u001b[39m (\u001b[43mtotal_correct\u001b[49m\u001b[43m \u001b[49m\u001b[38;5;241;43m/\u001b[39;49m\u001b[43m \u001b[49m\u001b[43mtotal_samples\u001b[49m) \u001b[38;5;241m*\u001b[39m \u001b[38;5;241m100\u001b[39m\n\u001b[0;32m     83\u001b[0m     \u001b[38;5;28mprint\u001b[39m(\u001b[38;5;124mf\u001b[39m\u001b[38;5;124m\"\u001b[39m\u001b[38;5;124mEpoch Testing Accuracy: \u001b[39m\u001b[38;5;132;01m{\u001b[39;00mepoch_test_accuracy\u001b[38;5;132;01m:\u001b[39;00m\u001b[38;5;124m.4f\u001b[39m\u001b[38;5;132;01m}\u001b[39;00m\u001b[38;5;124m\"\u001b[39m)\n\u001b[0;32m     85\u001b[0m \u001b[38;5;66;03m# Concatenate features and labels for t-SNE visualization\u001b[39;00m\n",
      "\u001b[1;31mZeroDivisionError\u001b[0m: division by zero"
     ]
    }
   ],
   "source": [
    "import matplotlib.pyplot as plt\n",
    "from sklearn.manifold import TSNE\n",
    "import numpy as np\n",
    "import torch\n",
    "\n",
    "# Variables for best metrics\n",
    "best_train_accuracy = 0.0\n",
    "best_test_accuracy = 0.0\n",
    "\n",
    "# Lists to store features and labels for t-SNE visualization\n",
    "tsne_train_features = []  # Features for training set\n",
    "tsne_train_labels = []  # Labels for training set\n",
    "tsne_test_features = []  # Features for testing set\n",
    "tsne_test_labels = []  # Labels for testing set\n",
    "\n",
    "optimizer = optim.Adam(fusion_model.parameters(), lr=0.001,weight_decay=5e-4)  # Adam optimizer\n",
    "criterion = nn.BCEWithLogitsLoss()\n",
    "\n",
    "\n",
    "# Testing loop\n",
    "total_correct = 0\n",
    "total_samples = 0\n",
    "true_labels_test = []\n",
    "pred_probs_test = []    \n",
    "for data_batch in test_dataset:\n",
    "    graph_data_batch = data_batch[0]\n",
    "    sequence_inputs = data_batch[1].to(device)                                                      \n",
    "    sequence_targets = graph_data_batch.y\n",
    "    \n",
    "    output= fusion_model(sequence_inputs)\n",
    "    binary_predictions = (output >= 0.5).float()\n",
    "    sequence_targets = sequence_targets.unsqueeze(0)\n",
    "# Compute epoch test accuracy\n",
    "epoch_test_accuracy = (total_correct / total_samples) * 100\n",
    "print(f\"Epoch Testing Accuracy: {epoch_test_accuracy:.4f}\")\n",
    "\n",
    "# Concatenate features and labels for t-SNE visualization\n",
    "test_features = np.concatenate(tsne_test_features, axis=0)  # Test features\n",
    "test_labels = np.concatenate(tsne_test_labels, axis=0)  # Test labels\n",
    "\n",
    "# Define TP, TN, FP, FN in the test set\n",
    "test_predictions = (test_features >= 0.5).astype(int)  # Binary predictions\n",
    "tp_indices = np.where((test_predictions == 1) & (test_labels == 1))[0]\n",
    "tn_indices = np.where((test_predictions == 0) & (test_labels == 0))[0]\n",
    "fp_indices = np.where((test_predictions == 1) & (test_labels == 0))[0]\n",
    "fn_indices = np.where((test_predictions == 0) & (test_labels == 1))[0]\n",
    "\n",
    "# Apply t-SNE for visualization\n",
    "tsne = TSNE(n_components=2, random_state=42)  # Reduce to 2D\n",
    "tsne_results = tsne.fit_transform(test_features)  # Apply t-SNE to test set\n",
    "\n",
    "# Create scatter plot with different colors for TP, TN, FP, FN\n",
    "plt.figure(figsize=(10, 8))\n",
    "plt.scatter(tsne_results[tp_indices, 0], tsne_results[tp_indices, 1], c='blue', label='True Positive (TP)', alpha=0.7, s=30)\n",
    "plt.scatter(tsne_results[tn_indices, 0], tsne_results[tn_indices, 1], c='orange', label='True Negative (TN)', alpha=0.7, s=30)\n",
    "plt.scatter(tsne_results[fp_indices, 0], tsne_results[fp_indices, 1], c='red', label='False Positive (FP)', alpha=0.7, s=30)\n",
    "plt.scatter(tsne_results[fn_indices, 0], tsne_results[fn_indices, 1], c='green', label='False Negative (FN)', alpha=0.7, s=30)\n",
    "\n",
    "plt.xlabel(\"t-SNE Dimension 1\")\n",
    "plt.ylabel(\"t-SNE Dimension 2\")\n",
    "plt.title(\"t-SNE Visualization of Model Predictions\")\n",
    "plt.legend()  # Add a legend for clarity\n",
    "plt.show()  # Display the plot"
   ]
  },
  {
   "cell_type": "code",
   "execution_count": 9,
   "metadata": {},
   "outputs": [
    {
     "data": {
      "image/png": "[encoded data removed]",
      "text/plain": [
       "<Figure size 800x600 with 1 Axes>"
      ]
     },
     "metadata": {},
     "output_type": "display_data"
    }
   ],
   "source": [
    "# Plot the t-SNE transformed data\n",
    "plt.figure(figsize=(8, 6))\n",
    "plt.scatter(outputs_test_1d, range(len(outputs_test_1d)), s=10, c='b', alpha=0.5)\n",
    "plt.xlabel('t-SNE Transformed Dimension')\n",
    "plt.ylabel('Data Point Index')\n",
    "plt.title('t-SNE Transformed Data')\n",
    "plt.show()"
   ]
  }
 ],
 "metadata": {
  "kernelspec": {
   "display_name": "Python 3",
   "language": "python",
   "name": "python3"
  },
  "language_info": {
   "codemirror_mode": {
    "name": "ipython",
    "version": 3
   },
   "file_extension": ".py",
   "mimetype": "text/x-python",
   "name": "python",
   "nbconvert_exporter": "python",
   "pygments_lexer": "ipython3",
   "version": "3.12.3"
  }
 },
 "nbformat": 4,
 "nbformat_minor": 2
}
